{
  "nbformat": 4,
  "nbformat_minor": 0,
  "metadata": {
    "colab": {
      "name": "Mahfuzur Rahman CNN project.ipynb",
      "provenance": [],
      "collapsed_sections": [],
      "authorship_tag": "ABX9TyMxzlSMKUXKoRVb7RAidbIa",
      "include_colab_link": true
    },
    "kernelspec": {
      "name": "python3",
      "display_name": "Python 3"
    },
    "language_info": {
      "name": "python"
    }
  },
  "cells": [
    {
      "cell_type": "markdown",
      "metadata": {
        "id": "view-in-github",
        "colab_type": "text"
      },
      "source": [
        "<a href=\"https://colab.research.google.com/github/mahfuz978/Deep_Neural_Network---TECH-I.S./blob/main/Mahfuzur_Rahman_CNN_project.ipynb\" target=\"_parent\"><img src=\"https://colab.research.google.com/assets/colab-badge.svg\" alt=\"Open In Colab\"/></a>"
      ]
    },
    {
      "cell_type": "markdown",
      "metadata": {
        "id": "I1nRk_B20UsE"
      },
      "source": [
        "# Convolutional Neural Network\n",
        "Data Source: https://drive.google.com/drive/folders/15SG-chdqEwcrNAY39RTZJjvl-UwiZo_e?usp=sharing"
      ]
    },
    {
      "cell_type": "code",
      "metadata": {
        "id": "eOSpo9ZGaFwW"
      },
      "source": [
        "# importing the libraries\n",
        "\n",
        "import tensorflow as tf\n",
        "from keras.preprocessing.image import ImageDataGenerator"
      ],
      "execution_count": null,
      "outputs": []
    },
    {
      "cell_type": "code",
      "metadata": {
        "colab": {
          "base_uri": "https://localhost:8080/",
          "height": 35
        },
        "id": "xryI6kIt0xXd",
        "outputId": "8a4a8cde-4b95-429c-d57c-fdc78a806f0c"
      },
      "source": [
        "# specify tensorflow version\n",
        "tf.__version__"
      ],
      "execution_count": null,
      "outputs": [
        {
          "output_type": "execute_result",
          "data": {
            "application/vnd.google.colaboratory.intrinsic+json": {
              "type": "string"
            },
            "text/plain": [
              "'2.5.0'"
            ]
          },
          "metadata": {
            "tags": []
          },
          "execution_count": 2
        }
      ]
    },
    {
      "cell_type": "code",
      "metadata": {
        "colab": {
          "base_uri": "https://localhost:8080/",
          "height": 35
        },
        "id": "CP_hhk-Q011a",
        "outputId": "a1e90e20-f9b4-46ff-9cee-854fa5647fa1"
      },
      "source": [
        "# Testing GPU\n",
        "import tensorflow as tf\n",
        "tf.test.gpu_device_name()"
      ],
      "execution_count": null,
      "outputs": [
        {
          "output_type": "execute_result",
          "data": {
            "application/vnd.google.colaboratory.intrinsic+json": {
              "type": "string"
            },
            "text/plain": [
              "''"
            ]
          },
          "metadata": {
            "tags": []
          },
          "execution_count": 3
        }
      ]
    },
    {
      "cell_type": "code",
      "metadata": {
        "colab": {
          "base_uri": "https://localhost:8080/"
        },
        "id": "KGUb57YX16d3",
        "outputId": "e7119238-6591-4b44-8bc2-4347663eed01"
      },
      "source": [
        "# Mounting Google Drive locally\n",
        "from google.colab import drive\n",
        "drive.mount('/content/data')"
      ],
      "execution_count": null,
      "outputs": [
        {
          "output_type": "stream",
          "text": [
            "Drive already mounted at /content/data; to attempt to forcibly remount, call drive.mount(\"/content/data\", force_remount=True).\n"
          ],
          "name": "stdout"
        }
      ]
    },
    {
      "cell_type": "code",
      "metadata": {
        "id": "LrxUNNO92kQM"
      },
      "source": [
        "import os\n",
        "os.chdir('/content/data/MyDrive/Tech IS/Deep learning')"
      ],
      "execution_count": null,
      "outputs": []
    },
    {
      "cell_type": "code",
      "metadata": {
        "id": "QXDiK7YO3w9j",
        "colab": {
          "base_uri": "https://localhost:8080/"
        },
        "outputId": "e81b0c14-6bf0-4d6a-84ab-6369d99e001f"
      },
      "source": [
        "train_datagen = ImageDataGenerator(rescale = 1./255,\n",
        "                                   shear_range = 0.2,\n",
        "                                   zoom_range = 0.2,\n",
        "                                   horizontal_flip = True)\n",
        "training_set = train_datagen.flow_from_directory('training_set',\n",
        "                                                 target_size = (64,64),\n",
        "                                                 batch_size = 32,\n",
        "                                                 class_mode = 'binary')"
      ],
      "execution_count": null,
      "outputs": [
        {
          "output_type": "stream",
          "text": [
            "Found 4000 images belonging to 2 classes.\n"
          ],
          "name": "stdout"
        }
      ]
    },
    {
      "cell_type": "markdown",
      "metadata": {
        "id": "aWfS8mtlrWH1"
      },
      "source": [
        "Preprocessing the Test set"
      ]
    },
    {
      "cell_type": "code",
      "metadata": {
        "colab": {
          "base_uri": "https://localhost:8080/"
        },
        "id": "Qp56OJhDrIue",
        "outputId": "e1375ad8-d2c9-4287-b8bc-4f5c96cb60ea"
      },
      "source": [
        "test_datagen = ImageDataGenerator(rescale = 1./255)\n",
        "test_set = test_datagen.flow_from_directory('test_set',\n",
        "                                            target_size = (64,64),\n",
        "                                            batch_size = 32,\n",
        "                                            class_mode = 'binary')"
      ],
      "execution_count": null,
      "outputs": [
        {
          "output_type": "stream",
          "text": [
            "Found 1000 images belonging to 2 classes.\n"
          ],
          "name": "stdout"
        }
      ]
    },
    {
      "cell_type": "markdown",
      "metadata": {
        "id": "JPGWCs4WsQnP"
      },
      "source": [
        "# Building the CNN"
      ]
    },
    {
      "cell_type": "code",
      "metadata": {
        "id": "ZAZR4z3vsXpS"
      },
      "source": [
        "cnn = tf.keras.models.Sequential()"
      ],
      "execution_count": null,
      "outputs": []
    },
    {
      "cell_type": "markdown",
      "metadata": {
        "id": "o88l0G34s3iq"
      },
      "source": [
        "Convolution"
      ]
    },
    {
      "cell_type": "code",
      "metadata": {
        "id": "ADVELxG4seiu"
      },
      "source": [
        "cnn.add(tf.keras.layers.Conv2D(filters = 32, kernel_size = 3,\n",
        "                               activation = 'relu', input_shape = [64,64,3]))"
      ],
      "execution_count": null,
      "outputs": []
    },
    {
      "cell_type": "markdown",
      "metadata": {
        "id": "b7sUSgrls7FX"
      },
      "source": [
        "Pooling"
      ]
    },
    {
      "cell_type": "code",
      "metadata": {
        "id": "tkQ5nY3Rs9ce"
      },
      "source": [
        "cnn.add(tf.keras.layers.MaxPool2D(pool_size = 2, strides = 2))"
      ],
      "execution_count": null,
      "outputs": []
    },
    {
      "cell_type": "markdown",
      "metadata": {
        "id": "D6sWiaHstYC7"
      },
      "source": [
        "Adding a second convolutional layer"
      ]
    },
    {
      "cell_type": "code",
      "metadata": {
        "id": "XcRgf6bQtLH7"
      },
      "source": [
        "cnn.add(tf.keras.layers.Conv2D(filters = 32, kernel_size = 3,\n",
        "                               activation = 'relu'))\n",
        "cnn.add(tf.keras.layers.MaxPool2D(pool_size = 2, strides = 2))"
      ],
      "execution_count": null,
      "outputs": []
    },
    {
      "cell_type": "markdown",
      "metadata": {
        "id": "iVwVo7ICt2Zm"
      },
      "source": [
        "Flattening"
      ]
    },
    {
      "cell_type": "code",
      "metadata": {
        "id": "6qazeFTBt1eP"
      },
      "source": [
        "cnn.add(tf.keras.layers.Flatten())"
      ],
      "execution_count": null,
      "outputs": []
    },
    {
      "cell_type": "markdown",
      "metadata": {
        "id": "3Sy3tsdTt_M-"
      },
      "source": [
        "Full Connection"
      ]
    },
    {
      "cell_type": "code",
      "metadata": {
        "id": "u9bzQCTGt-S4"
      },
      "source": [
        "cnn.add(tf.keras.layers.Dense(units = 128, activation = 'relu'))"
      ],
      "execution_count": null,
      "outputs": []
    },
    {
      "cell_type": "markdown",
      "metadata": {
        "id": "WjhLUJd-uUiM"
      },
      "source": [
        "Output Layer"
      ]
    },
    {
      "cell_type": "code",
      "metadata": {
        "id": "R-y-xuKsuTFa"
      },
      "source": [
        "cnn.add(tf.keras.layers.Dense(units = 1, activation = 'sigmoid'))"
      ],
      "execution_count": null,
      "outputs": []
    },
    {
      "cell_type": "markdown",
      "metadata": {
        "id": "OdRhhKXiugzf"
      },
      "source": [
        "Model Summary"
      ]
    },
    {
      "cell_type": "code",
      "metadata": {
        "colab": {
          "base_uri": "https://localhost:8080/"
        },
        "id": "1gQdbeIvufv6",
        "outputId": "554a6802-2bc7-452d-c1f7-3aad366ae9fa"
      },
      "source": [
        "cnn.summary()"
      ],
      "execution_count": null,
      "outputs": [
        {
          "output_type": "stream",
          "text": [
            "Model: \"sequential\"\n",
            "_________________________________________________________________\n",
            "Layer (type)                 Output Shape              Param #   \n",
            "=================================================================\n",
            "conv2d (Conv2D)              (None, 62, 62, 32)        896       \n",
            "_________________________________________________________________\n",
            "max_pooling2d (MaxPooling2D) (None, 31, 31, 32)        0         \n",
            "_________________________________________________________________\n",
            "conv2d_1 (Conv2D)            (None, 29, 29, 32)        9248      \n",
            "_________________________________________________________________\n",
            "max_pooling2d_1 (MaxPooling2 (None, 14, 14, 32)        0         \n",
            "_________________________________________________________________\n",
            "flatten (Flatten)            (None, 6272)              0         \n",
            "_________________________________________________________________\n",
            "dense (Dense)                (None, 128)               802944    \n",
            "_________________________________________________________________\n",
            "dense_1 (Dense)              (None, 1)                 129       \n",
            "=================================================================\n",
            "Total params: 813,217\n",
            "Trainable params: 813,217\n",
            "Non-trainable params: 0\n",
            "_________________________________________________________________\n"
          ],
          "name": "stdout"
        }
      ]
    },
    {
      "cell_type": "markdown",
      "metadata": {
        "id": "jESxLikUur98"
      },
      "source": [
        "# Training the CNN"
      ]
    },
    {
      "cell_type": "markdown",
      "metadata": {
        "id": "wBTrXP3Xu3AJ"
      },
      "source": [
        "Compiling the CNN"
      ]
    },
    {
      "cell_type": "code",
      "metadata": {
        "id": "IFFADVbqulqt"
      },
      "source": [
        "cnn.compile(optimizer = 'adam', loss = 'binary_crossentropy', metrics = ['accuracy'])"
      ],
      "execution_count": null,
      "outputs": []
    },
    {
      "cell_type": "markdown",
      "metadata": {
        "id": "13QrEILdvPfT"
      },
      "source": [
        "Training the CNN on the Training set and evaluating it on the Test set"
      ]
    },
    {
      "cell_type": "code",
      "metadata": {
        "colab": {
          "base_uri": "https://localhost:8080/"
        },
        "id": "aLqaqBNovOh5",
        "outputId": "cbb32f4a-29a8-4af8-fb7f-3cc7fe3feb60"
      },
      "source": [
        "cnn.fit(x = training_set, validation_data = test_set, epochs = 25)"
      ],
      "execution_count": null,
      "outputs": [
        {
          "output_type": "stream",
          "text": [
            "Epoch 1/25\n",
            "125/125 [==============================] - 1598s 13s/step - loss: 0.6862 - accuracy: 0.5612 - val_loss: 0.6437 - val_accuracy: 0.6770\n",
            "Epoch 2/25\n",
            "125/125 [==============================] - 40s 322ms/step - loss: 0.6443 - accuracy: 0.6292 - val_loss: 0.6059 - val_accuracy: 0.6890\n",
            "Epoch 3/25\n",
            "125/125 [==============================] - 41s 324ms/step - loss: 0.6206 - accuracy: 0.6597 - val_loss: 0.5771 - val_accuracy: 0.7280\n",
            "Epoch 4/25\n",
            "125/125 [==============================] - 40s 319ms/step - loss: 0.6035 - accuracy: 0.6760 - val_loss: 0.5967 - val_accuracy: 0.6820\n",
            "Epoch 5/25\n",
            "125/125 [==============================] - 40s 319ms/step - loss: 0.5702 - accuracy: 0.7185 - val_loss: 0.6495 - val_accuracy: 0.6310\n",
            "Epoch 6/25\n",
            "125/125 [==============================] - 40s 316ms/step - loss: 0.5419 - accuracy: 0.7303 - val_loss: 0.5733 - val_accuracy: 0.7300\n",
            "Epoch 7/25\n",
            "125/125 [==============================] - 40s 316ms/step - loss: 0.5143 - accuracy: 0.7473 - val_loss: 0.5049 - val_accuracy: 0.7680\n",
            "Epoch 8/25\n",
            "125/125 [==============================] - 40s 316ms/step - loss: 0.5044 - accuracy: 0.7465 - val_loss: 0.5290 - val_accuracy: 0.7400\n",
            "Epoch 9/25\n",
            "125/125 [==============================] - 40s 319ms/step - loss: 0.4909 - accuracy: 0.7552 - val_loss: 0.5223 - val_accuracy: 0.7590\n",
            "Epoch 10/25\n",
            "125/125 [==============================] - 39s 313ms/step - loss: 0.4726 - accuracy: 0.7745 - val_loss: 0.5046 - val_accuracy: 0.7620\n",
            "Epoch 11/25\n",
            "125/125 [==============================] - 40s 319ms/step - loss: 0.4633 - accuracy: 0.7797 - val_loss: 0.4864 - val_accuracy: 0.7840\n",
            "Epoch 12/25\n",
            "125/125 [==============================] - 40s 319ms/step - loss: 0.4370 - accuracy: 0.7878 - val_loss: 0.5573 - val_accuracy: 0.7240\n",
            "Epoch 13/25\n",
            "125/125 [==============================] - 40s 317ms/step - loss: 0.4343 - accuracy: 0.7970 - val_loss: 0.5261 - val_accuracy: 0.7420\n",
            "Epoch 14/25\n",
            "125/125 [==============================] - 40s 319ms/step - loss: 0.4105 - accuracy: 0.8115 - val_loss: 0.4900 - val_accuracy: 0.7770\n",
            "Epoch 15/25\n",
            "125/125 [==============================] - 40s 316ms/step - loss: 0.4097 - accuracy: 0.8077 - val_loss: 0.5436 - val_accuracy: 0.7370\n",
            "Epoch 16/25\n",
            "125/125 [==============================] - 40s 316ms/step - loss: 0.3924 - accuracy: 0.8183 - val_loss: 0.4999 - val_accuracy: 0.7670\n",
            "Epoch 17/25\n",
            "125/125 [==============================] - 40s 318ms/step - loss: 0.3829 - accuracy: 0.8285 - val_loss: 0.5032 - val_accuracy: 0.7820\n",
            "Epoch 18/25\n",
            "125/125 [==============================] - 40s 317ms/step - loss: 0.3545 - accuracy: 0.8388 - val_loss: 0.5122 - val_accuracy: 0.7670\n",
            "Epoch 19/25\n",
            "125/125 [==============================] - 40s 318ms/step - loss: 0.3541 - accuracy: 0.8447 - val_loss: 0.4952 - val_accuracy: 0.7790\n",
            "Epoch 20/25\n",
            "125/125 [==============================] - 40s 317ms/step - loss: 0.3313 - accuracy: 0.8530 - val_loss: 0.4861 - val_accuracy: 0.7880\n",
            "Epoch 21/25\n",
            "125/125 [==============================] - 40s 318ms/step - loss: 0.3167 - accuracy: 0.8612 - val_loss: 0.5246 - val_accuracy: 0.7750\n",
            "Epoch 22/25\n",
            "125/125 [==============================] - 40s 318ms/step - loss: 0.2975 - accuracy: 0.8723 - val_loss: 0.5612 - val_accuracy: 0.7780\n",
            "Epoch 23/25\n",
            "125/125 [==============================] - 40s 316ms/step - loss: 0.2896 - accuracy: 0.8700 - val_loss: 0.5211 - val_accuracy: 0.7850\n",
            "Epoch 24/25\n",
            "125/125 [==============================] - 41s 326ms/step - loss: 0.2712 - accuracy: 0.8830 - val_loss: 0.5761 - val_accuracy: 0.7720\n",
            "Epoch 25/25\n",
            "125/125 [==============================] - 41s 326ms/step - loss: 0.2480 - accuracy: 0.9005 - val_loss: 0.5558 - val_accuracy: 0.7790\n"
          ],
          "name": "stdout"
        },
        {
          "output_type": "execute_result",
          "data": {
            "text/plain": [
              "<tensorflow.python.keras.callbacks.History at 0x7f8bc0c21050>"
            ]
          },
          "metadata": {
            "tags": []
          },
          "execution_count": 18
        }
      ]
    },
    {
      "cell_type": "code",
      "metadata": {
        "id": "eZ_dovsRv0st"
      },
      "source": [
        "import numpy as np\n",
        "from keras.preprocessing import image\n",
        "test_image = image.load_img('single_prediction/cat_or_dog_1.jpg', target_size = (64,64))\n",
        "test_image = image.img_to_array(test_image)\n",
        "test_image = np.expand_dims(test_image, axis = 0)\n",
        "result = cnn.predict(test_image)\n",
        "training_set.class_indices\n",
        "if result[0][0] == 1:\n",
        "  prediction = 'dog'\n",
        "else:\n",
        "  prediction = 'cat'"
      ],
      "execution_count": null,
      "outputs": []
    },
    {
      "cell_type": "code",
      "metadata": {
        "colab": {
          "base_uri": "https://localhost:8080/"
        },
        "id": "kTlWZO7MALyo",
        "outputId": "b8f9dc86-84eb-4d5d-d1c1-78707af58212"
      },
      "source": [
        "print(prediction)"
      ],
      "execution_count": null,
      "outputs": [
        {
          "output_type": "stream",
          "text": [
            "dog\n"
          ],
          "name": "stdout"
        }
      ]
    },
    {
      "cell_type": "code",
      "metadata": {
        "id": "wV2PF5_QAnpO"
      },
      "source": [
        ""
      ],
      "execution_count": null,
      "outputs": []
    }
  ]
}