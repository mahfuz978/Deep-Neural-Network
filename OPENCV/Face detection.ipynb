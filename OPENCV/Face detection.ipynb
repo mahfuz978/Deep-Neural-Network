{
 "cells": [
  {
   "cell_type": "markdown",
   "id": "f25b908b-c8a0-4a1d-b83a-25ed93c4413d",
   "metadata": {},
   "source": [
    "# Face & Eye Detection using HAAR Cascade Classifiers\n",
    "\n",
    "### Face Detection"
   ]
  },
  {
   "cell_type": "code",
   "execution_count": 1,
   "id": "982ce98d-b5b1-43d5-bdcf-3c46d67afdbf",
   "metadata": {},
   "outputs": [],
   "source": [
    "import numpy as np\n",
    "import cv2\n",
    "from cv2 import CascadeClassifier\n",
    "import warnings\n",
    "warnings.filterwarnings('ignore')\n",
    " \n",
    "#OpenCV's CascadeClassifier function to where our classifier (XML file format) is stored\n",
    "face_classifier = cv2.CascadeClassifier(cv2.data.haarcascades + 'haarcascade_frontalface_default.xml')\n",
    "\n",
    "def face_detector(img):\n",
    "    \n",
    "    #converting image to grayscale\n",
    "    gray = cv2.cvtColor(img, cv2.COLOR_BGR2GRAY)\n",
    "    \n",
    "    # Our classifier returns the ROI of the detected face as a tuple It stores the top left coordinate and the bottom right coordiantes\n",
    "    faces = face_classifier.detectMultiScale(gray, 1.3, 5)\n",
    "    \n",
    "    # When no faces detected, face_classifier returns and empty tuple\n",
    "    if faces == ():\n",
    "        print(\"No Face Found\")\n",
    "        \n",
    "    # We iterate through our faces array and draw a rectangle over each face in faces\n",
    "    for (x,y,w,h) in faces:\n",
    "        cv2.rectangle(img,(x,y),(x+w,y+h),(127,0,255),2)\n",
    "\n",
    "    return img\n",
    "\n",
    "# Loading our image\n",
    "img = cv2.imread('IMG_20201129_202622.jpg')\n",
    "cv2.imshow('Our Face Extractor', face_detector(img))\n",
    "cv2.waitKey()\n",
    "cv2.destroyAllWindows()"
   ]
  },
  {
   "cell_type": "code",
   "execution_count": 4,
   "id": "f912cffd-e766-456b-a7e8-93765213aa07",
   "metadata": {},
   "outputs": [],
   "source": [
    "import cv2\n",
    "from cv2 import CascadeClassifier\n",
    "import numpy as np\n",
    "import warnings\n",
    "warnings.filterwarnings('ignore')\n",
    "\n",
    "#OpenCV's CascadeClassifier function to where our classifier (XML file format) is stored\n",
    "face_classifier = cv2.CascadeClassifier(cv2.data.haarcascades +'haarcascade_frontalface_default.xml')\n",
    "eye_classifier = cv2.CascadeClassifier(cv2.data.haarcascades +'haarcascade_eye.xml')\n",
    "\n",
    "def face_and_eye_detector(img):\n",
    "    \n",
    "    # Convert image to grayscale\n",
    "    gray = cv2.cvtColor(img, cv2.COLOR_BGR2GRAY)\n",
    "\n",
    "    # Our classifier returns the ROI of the detected face as a tuple It stores the top left coordinate and the bottom right coordiantes\n",
    "    faces = face_classifier.detectMultiScale(gray, 1.3, 5)\n",
    "    \n",
    "    # When no faces detected, face_classifier returns image\n",
    "    if faces is ():\n",
    "        return img\n",
    "    \n",
    "    # We iterate through our faces array and draw a rectangle over each face in faces\n",
    "    for (x,y,w,h) in faces:\n",
    "        cv2.rectangle(img,(x,y),(x+w,y+h),(255,0,0),2)\n",
    "        roi_gray = gray[y:y+h, x:x+w]\n",
    "        roi_color = img[y:y+h, x:x+w]\n",
    "        eyes = eye_classifier.detectMultiScale(roi_gray)\n",
    "        \n",
    "        for (ex,ey,ew,eh) in eyes:\n",
    "            cv2.rectangle(roi_color,(ex,ey),(ex+ew,ey+eh),(0,0,255),2) \n",
    "    return img\n",
    "\n",
    "# Loading our image\n",
    "img = cv2.imread('IMG_20201129_202622.jpg')\n",
    "\n",
    "cv2.imshow('Our Face Extractor', face_and_eye_detector(img))\n",
    "cv2.waitKey()\n",
    "cv2.destroyAllWindows()"
   ]
  },
  {
   "cell_type": "code",
   "execution_count": null,
   "id": "399f3c72-fe72-4faa-9f20-75371a03f787",
   "metadata": {},
   "outputs": [],
   "source": []
  },
  {
   "cell_type": "code",
   "execution_count": null,
   "id": "4ada06c3-a9cd-48fc-882f-d7a6f67f194d",
   "metadata": {},
   "outputs": [],
   "source": []
  }
 ],
 "metadata": {
  "kernelspec": {
   "display_name": "Python 3",
   "language": "python",
   "name": "python3"
  },
  "language_info": {
   "codemirror_mode": {
    "name": "ipython",
    "version": 3
   },
   "file_extension": ".py",
   "mimetype": "text/x-python",
   "name": "python",
   "nbconvert_exporter": "python",
   "pygments_lexer": "ipython3",
   "version": "3.8.10"
  }
 },
 "nbformat": 4,
 "nbformat_minor": 5
}
